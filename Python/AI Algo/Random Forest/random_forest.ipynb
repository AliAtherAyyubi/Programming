{
 "cells": [
  {
   "cell_type": "code",
   "execution_count": null,
   "metadata": {},
   "outputs": [],
   "source": [
    "\n",
    "\"\"\" Random Forest Code using sample data implemeted on Colabs\"\"\"\n",
    "\n",
    "import pandas\n",
    "from sklearn.ensemble import RandomForestClassifier\n",
    "import matplotlib.pyplot as plt\n",
    "from sklearn.tree import plot_tree\n",
    "\n",
    "df = pandas.read_csv(\"sample.csv\")\n",
    "\n",
    "features = ['sepal_length','sepal_width','petal_length','petal_width']\n",
    "\n",
    "X = df[features]\n",
    "y = df['species']\n",
    "\n",
    "rf = RandomForestClassifier()\n",
    "rf = rf.fit(X, y)\n",
    "\n",
    "for i in range(3):\n",
    "    fig = plt.figure(figsize=(20,15))\n",
    "    plot_tree(rf.estimators_[0],\n",
    "              feature_names=X.columns,\n",
    "              filled=True, impurity=True,\n",
    "              rounded=True)\n",
    "    fig.savefig(f\"tree{i}\")"
   ]
  }
 ],
 "metadata": {
  "kernelspec": {
   "display_name": "Python 3",
   "language": "python",
   "name": "python3"
  },
  "language_info": {
   "codemirror_mode": {
    "name": "ipython",
    "version": 3
   },
   "file_extension": ".py",
   "mimetype": "text/x-python",
   "name": "python",
   "nbconvert_exporter": "python",
   "pygments_lexer": "ipython3",
   "version": "3.11.2"
  },
  "orig_nbformat": 4
 },
 "nbformat": 4,
 "nbformat_minor": 2
}
